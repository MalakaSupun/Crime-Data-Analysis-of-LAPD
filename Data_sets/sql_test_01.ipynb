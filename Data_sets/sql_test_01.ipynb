{
 "cells": [
  {
   "cell_type": "markdown",
   "metadata": {
    "vscode": {
     "languageId": "plaintext"
    }
   },
   "source": [
    "## Data Analysis..."
   ]
  },
  {
   "cell_type": "markdown",
   "metadata": {},
   "source": [
    "This code block is designed to manage GPU memory usage in TensorFlow. It lists the available physical GPUs, sets a memory limit for each GPU to avoid OOM errors, and optionally enables memory growth. It then lists the logical GPUs and prints the number of physical and logical GPUs. If any errors occur during this process, they are caught and printed."
   ]
  },
  {
   "cell_type": "code",
   "execution_count": 1,
   "metadata": {},
   "outputs": [
    {
     "name": "stderr",
     "output_type": "stream",
     "text": [
      "2025-01-25 00:52:50.756480: I tensorflow/core/util/port.cc:153] oneDNN custom operations are on. You may see slightly different numerical results due to floating-point round-off errors from different computation orders. To turn them off, set the environment variable `TF_ENABLE_ONEDNN_OPTS=0`.\n",
      "2025-01-25 00:52:50.981175: E external/local_xla/xla/stream_executor/cuda/cuda_fft.cc:477] Unable to register cuFFT factory: Attempting to register factory for plugin cuFFT when one has already been registered\n",
      "WARNING: All log messages before absl::InitializeLog() is called are written to STDERR\n",
      "E0000 00:00:1737746571.014644   21126 cuda_dnn.cc:8310] Unable to register cuDNN factory: Attempting to register factory for plugin cuDNN when one has already been registered\n",
      "E0000 00:00:1737746571.024230   21126 cuda_blas.cc:1418] Unable to register cuBLAS factory: Attempting to register factory for plugin cuBLAS when one has already been registered\n",
      "2025-01-25 00:52:51.055003: I tensorflow/core/platform/cpu_feature_guard.cc:210] This TensorFlow binary is optimized to use available CPU instructions in performance-critical operations.\n",
      "To enable the following instructions: AVX2 AVX512F AVX512_VNNI FMA, in other operations, rebuild TensorFlow with the appropriate compiler flags.\n"
     ]
    },
    {
     "name": "stdout",
     "output_type": "stream",
     "text": [
      "1 Physical GPUs, 1 Logical GPUs\n",
      "\n",
      " [PhysicalDevice(name='/physical_device:GPU:0', device_type='GPU')]\n"
     ]
    },
    {
     "name": "stderr",
     "output_type": "stream",
     "text": [
      "I0000 00:00:1737746581.374490   21126 gpu_device.cc:2022] Created device /job:localhost/replica:0/task:0/device:GPU:0 with 1024 MB memory:  -> device: 0, name: NVIDIA GeForce MX250, pci bus id: 0000:06:00.0, compute capability: 6.1\n"
     ]
    }
   ],
   "source": [
    "import tensorflow as tf\n",
    "\n",
    "# Avoid OOM errors by setting GPU Memory Growth\n",
    "gpus = tf.config.list_physical_devices('GPU')\n",
    "if gpus:\n",
    "    try:\n",
    "        for gpu in gpus:\n",
    "            tf.config.set_logical_device_configuration(\n",
    "                gpu,\n",
    "                [tf.config.LogicalDeviceConfiguration(memory_limit=1024)])  # Example: Limit to 1GB\n",
    "            #tf.config.experimental.set_memory_growth(gpu, True)  # Enable memory growth\n",
    "        logical_gpus = tf.config.list_logical_devices('GPU')\n",
    "        print(f\"{len(gpus)} Physical GPUs, {len(logical_gpus)} Logical GPUs\")\n",
    "    except RuntimeError as e:\n",
    "        print(e)\n",
    "print(f\"\\n {gpus}\")\n",
    "\n"
   ]
  },
  {
   "cell_type": "markdown",
   "metadata": {},
   "source": [
    "#### Python Libraries ...\n",
    "\n",
    "Improt other python libraries to the code."
   ]
  },
  {
   "cell_type": "code",
   "execution_count": 1,
   "metadata": {},
   "outputs": [],
   "source": [
    "import pandas as pd\n",
    "import numpy as np"
   ]
  },
  {
   "cell_type": "markdown",
   "metadata": {},
   "source": [
    "#### Load CSV ..."
   ]
  },
  {
   "cell_type": "code",
   "execution_count": 2,
   "metadata": {},
   "outputs": [
    {
     "data": {
      "text/html": [
       "<div>\n",
       "<style scoped>\n",
       "    .dataframe tbody tr th:only-of-type {\n",
       "        vertical-align: middle;\n",
       "    }\n",
       "\n",
       "    .dataframe tbody tr th {\n",
       "        vertical-align: top;\n",
       "    }\n",
       "\n",
       "    .dataframe thead th {\n",
       "        text-align: right;\n",
       "    }\n",
       "</style>\n",
       "<table border=\"1\" class=\"dataframe\">\n",
       "  <thead>\n",
       "    <tr style=\"text-align: right;\">\n",
       "      <th></th>\n",
       "      <th>DR_NO</th>\n",
       "      <th>Date Rptd</th>\n",
       "      <th>DATE OCC</th>\n",
       "      <th>TIME OCC</th>\n",
       "      <th>AREA</th>\n",
       "      <th>AREA NAME</th>\n",
       "      <th>Rpt Dist No</th>\n",
       "      <th>Part 1-2</th>\n",
       "      <th>Crm Cd</th>\n",
       "      <th>Crm Cd Desc</th>\n",
       "      <th>...</th>\n",
       "      <th>Temperature (°C)</th>\n",
       "      <th>Dew point (°C)</th>\n",
       "      <th>Humidity (%)</th>\n",
       "      <th>Precipitation (mm)</th>\n",
       "      <th>Wind Direction(degrees°)</th>\n",
       "      <th>Windspeed (km/h)</th>\n",
       "      <th>Air pressure (hPa)</th>\n",
       "      <th>Sunshine total(min)</th>\n",
       "      <th>Wind Gust (km/h)</th>\n",
       "      <th>Snow depth(mm)</th>\n",
       "    </tr>\n",
       "  </thead>\n",
       "  <tbody>\n",
       "    <tr>\n",
       "      <th>0</th>\n",
       "      <td>190326475</td>\n",
       "      <td>2020-03-01</td>\n",
       "      <td>2020-03-01</td>\n",
       "      <td>21:30</td>\n",
       "      <td>7</td>\n",
       "      <td>Wilshire</td>\n",
       "      <td>784</td>\n",
       "      <td>1</td>\n",
       "      <td>510</td>\n",
       "      <td>VEHICLE - STOLEN</td>\n",
       "      <td>...</td>\n",
       "      <td>15.85</td>\n",
       "      <td>3.600000</td>\n",
       "      <td>44.00</td>\n",
       "      <td>0.000000</td>\n",
       "      <td>245.000000</td>\n",
       "      <td>9.4</td>\n",
       "      <td>1013.700000</td>\n",
       "      <td>NaN</td>\n",
       "      <td>NaN</td>\n",
       "      <td>NaN</td>\n",
       "    </tr>\n",
       "    <tr>\n",
       "      <th>1</th>\n",
       "      <td>200106753</td>\n",
       "      <td>2020-02-09</td>\n",
       "      <td>2020-02-08</td>\n",
       "      <td>18:00</td>\n",
       "      <td>1</td>\n",
       "      <td>Central</td>\n",
       "      <td>182</td>\n",
       "      <td>1</td>\n",
       "      <td>330</td>\n",
       "      <td>BURGLARY FROM VEHICLE</td>\n",
       "      <td>...</td>\n",
       "      <td>17.20</td>\n",
       "      <td>9.400000</td>\n",
       "      <td>60.00</td>\n",
       "      <td>0.000000</td>\n",
       "      <td>0.000000</td>\n",
       "      <td>0.0</td>\n",
       "      <td>1017.200000</td>\n",
       "      <td>NaN</td>\n",
       "      <td>NaN</td>\n",
       "      <td>NaN</td>\n",
       "    </tr>\n",
       "    <tr>\n",
       "      <th>2</th>\n",
       "      <td>200320258</td>\n",
       "      <td>2020-11-11</td>\n",
       "      <td>2020-11-04</td>\n",
       "      <td>17:00</td>\n",
       "      <td>3</td>\n",
       "      <td>Southwest</td>\n",
       "      <td>356</td>\n",
       "      <td>1</td>\n",
       "      <td>480</td>\n",
       "      <td>BIKE - STOLEN</td>\n",
       "      <td>...</td>\n",
       "      <td>21.70</td>\n",
       "      <td>11.700000</td>\n",
       "      <td>53.00</td>\n",
       "      <td>0.000000</td>\n",
       "      <td>0.000000</td>\n",
       "      <td>0.0</td>\n",
       "      <td>1018.700000</td>\n",
       "      <td>NaN</td>\n",
       "      <td>NaN</td>\n",
       "      <td>NaN</td>\n",
       "    </tr>\n",
       "    <tr>\n",
       "      <th>3</th>\n",
       "      <td>200907217</td>\n",
       "      <td>2023-05-10</td>\n",
       "      <td>2020-03-10</td>\n",
       "      <td>20:37</td>\n",
       "      <td>9</td>\n",
       "      <td>Van Nuys</td>\n",
       "      <td>964</td>\n",
       "      <td>1</td>\n",
       "      <td>343</td>\n",
       "      <td>SHOPLIFTING-GRAND THEFT ($950.01 &amp; OVER)</td>\n",
       "      <td>...</td>\n",
       "      <td>18.53</td>\n",
       "      <td>15.078333</td>\n",
       "      <td>80.55</td>\n",
       "      <td>0.461667</td>\n",
       "      <td>103.833333</td>\n",
       "      <td>7.6</td>\n",
       "      <td>1015.521667</td>\n",
       "      <td>NaN</td>\n",
       "      <td>NaN</td>\n",
       "      <td>NaN</td>\n",
       "    </tr>\n",
       "    <tr>\n",
       "      <th>4</th>\n",
       "      <td>200412582</td>\n",
       "      <td>2020-09-09</td>\n",
       "      <td>2020-09-09</td>\n",
       "      <td>06:30</td>\n",
       "      <td>4</td>\n",
       "      <td>Hollenbeck</td>\n",
       "      <td>413</td>\n",
       "      <td>1</td>\n",
       "      <td>510</td>\n",
       "      <td>VEHICLE - STOLEN</td>\n",
       "      <td>...</td>\n",
       "      <td>22.20</td>\n",
       "      <td>17.800000</td>\n",
       "      <td>76.00</td>\n",
       "      <td>0.000000</td>\n",
       "      <td>0.000000</td>\n",
       "      <td>0.0</td>\n",
       "      <td>1006.350000</td>\n",
       "      <td>NaN</td>\n",
       "      <td>NaN</td>\n",
       "      <td>NaN</td>\n",
       "    </tr>\n",
       "  </tbody>\n",
       "</table>\n",
       "<p>5 rows × 41 columns</p>\n",
       "</div>"
      ],
      "text/plain": [
       "       DR_NO   Date Rptd    DATE OCC TIME OCC  AREA   AREA NAME  Rpt Dist No  \\\n",
       "0  190326475  2020-03-01  2020-03-01    21:30     7    Wilshire          784   \n",
       "1  200106753  2020-02-09  2020-02-08    18:00     1     Central          182   \n",
       "2  200320258  2020-11-11  2020-11-04    17:00     3   Southwest          356   \n",
       "3  200907217  2023-05-10  2020-03-10    20:37     9    Van Nuys          964   \n",
       "4  200412582  2020-09-09  2020-09-09    06:30     4  Hollenbeck          413   \n",
       "\n",
       "   Part 1-2  Crm Cd                               Crm Cd Desc  ...  \\\n",
       "0         1     510                          VEHICLE - STOLEN  ...   \n",
       "1         1     330                     BURGLARY FROM VEHICLE  ...   \n",
       "2         1     480                             BIKE - STOLEN  ...   \n",
       "3         1     343  SHOPLIFTING-GRAND THEFT ($950.01 & OVER)  ...   \n",
       "4         1     510                          VEHICLE - STOLEN  ...   \n",
       "\n",
       "  Temperature (°C)  Dew point (°C)  Humidity (%) Precipitation (mm)  \\\n",
       "0            15.85        3.600000         44.00           0.000000   \n",
       "1            17.20        9.400000         60.00           0.000000   \n",
       "2            21.70       11.700000         53.00           0.000000   \n",
       "3            18.53       15.078333         80.55           0.461667   \n",
       "4            22.20       17.800000         76.00           0.000000   \n",
       "\n",
       "   Wind Direction(degrees°) Windspeed (km/h)  Air pressure (hPa)  \\\n",
       "0                245.000000              9.4         1013.700000   \n",
       "1                  0.000000              0.0         1017.200000   \n",
       "2                  0.000000              0.0         1018.700000   \n",
       "3                103.833333              7.6         1015.521667   \n",
       "4                  0.000000              0.0         1006.350000   \n",
       "\n",
       "  Sunshine total(min) Wind Gust (km/h) Snow depth(mm)  \n",
       "0                 NaN              NaN            NaN  \n",
       "1                 NaN              NaN            NaN  \n",
       "2                 NaN              NaN            NaN  \n",
       "3                 NaN              NaN            NaN  \n",
       "4                 NaN              NaN            NaN  \n",
       "\n",
       "[5 rows x 41 columns]"
      ]
     },
     "execution_count": 2,
     "metadata": {},
     "output_type": "execute_result"
    }
   ],
   "source": [
    "df = pd.read_csv(r'/home/malaka/Projects/CV_Projects/Crime_Data_Analysis_of_LAPD/Data_sets/Ready_dataset.csv')\n",
    "df.head()"
   ]
  },
  {
   "cell_type": "markdown",
   "metadata": {},
   "source": [
    "#### Drop NaN columns ...\n",
    "\n",
    "In this step, we will remove the columns \n",
    "1. 'Sunshine total(min)', \n",
    "2. 'Wind Gust (km/h)', \n",
    "3. 'Snow depth(mm)' ,\n",
    "from the dataframe. \n",
    "\n",
    "These columns are not required for our analysis and because those are containes NaN values, dropping them will help in reducing the complexity of the dataset."
   ]
  },
  {
   "cell_type": "code",
   "execution_count": 3,
   "metadata": {},
   "outputs": [
    {
     "data": {
      "text/html": [
       "<div>\n",
       "<style scoped>\n",
       "    .dataframe tbody tr th:only-of-type {\n",
       "        vertical-align: middle;\n",
       "    }\n",
       "\n",
       "    .dataframe tbody tr th {\n",
       "        vertical-align: top;\n",
       "    }\n",
       "\n",
       "    .dataframe thead th {\n",
       "        text-align: right;\n",
       "    }\n",
       "</style>\n",
       "<table border=\"1\" class=\"dataframe\">\n",
       "  <thead>\n",
       "    <tr style=\"text-align: right;\">\n",
       "      <th></th>\n",
       "      <th>DR_NO</th>\n",
       "      <th>Date Rptd</th>\n",
       "      <th>DATE OCC</th>\n",
       "      <th>TIME OCC</th>\n",
       "      <th>AREA</th>\n",
       "      <th>AREA NAME</th>\n",
       "      <th>Rpt Dist No</th>\n",
       "      <th>Part 1-2</th>\n",
       "      <th>Crm Cd</th>\n",
       "      <th>Crm Cd Desc</th>\n",
       "      <th>...</th>\n",
       "      <th>Year</th>\n",
       "      <th>Month</th>\n",
       "      <th>Date/Time</th>\n",
       "      <th>Temperature (°C)</th>\n",
       "      <th>Dew point (°C)</th>\n",
       "      <th>Humidity (%)</th>\n",
       "      <th>Precipitation (mm)</th>\n",
       "      <th>Wind Direction(degrees°)</th>\n",
       "      <th>Windspeed (km/h)</th>\n",
       "      <th>Air pressure (hPa)</th>\n",
       "    </tr>\n",
       "  </thead>\n",
       "  <tbody>\n",
       "    <tr>\n",
       "      <th>235103</th>\n",
       "      <td>211504135</td>\n",
       "      <td>2020-01-04</td>\n",
       "      <td>2020-01-04</td>\n",
       "      <td>10:45</td>\n",
       "      <td>15</td>\n",
       "      <td>N Hollywood</td>\n",
       "      <td>1553</td>\n",
       "      <td>1</td>\n",
       "      <td>442</td>\n",
       "      <td>SHOPLIFTING - PETTY THEFT ($950 &amp; UNDER)</td>\n",
       "      <td>...</td>\n",
       "      <td>2020</td>\n",
       "      <td>1</td>\n",
       "      <td>2020-01-04 10:45:00</td>\n",
       "      <td>11.100000</td>\n",
       "      <td>6.150000</td>\n",
       "      <td>71.750000</td>\n",
       "      <td>0.0</td>\n",
       "      <td>0.0</td>\n",
       "      <td>0.00</td>\n",
       "      <td>1025.80</td>\n",
       "    </tr>\n",
       "    <tr>\n",
       "      <th>661529</th>\n",
       "      <td>232106125</td>\n",
       "      <td>2023-02-26</td>\n",
       "      <td>2023-02-25</td>\n",
       "      <td>21:30</td>\n",
       "      <td>21</td>\n",
       "      <td>Topanga</td>\n",
       "      <td>2156</td>\n",
       "      <td>1</td>\n",
       "      <td>331</td>\n",
       "      <td>THEFT FROM MOTOR VEHICLE - GRAND ($950.01 AND ...</td>\n",
       "      <td>...</td>\n",
       "      <td>2023</td>\n",
       "      <td>2</td>\n",
       "      <td>2023-02-25 21:30:00</td>\n",
       "      <td>7.250000</td>\n",
       "      <td>5.600000</td>\n",
       "      <td>89.500000</td>\n",
       "      <td>2.2</td>\n",
       "      <td>130.0</td>\n",
       "      <td>2.70</td>\n",
       "      <td>1014.00</td>\n",
       "    </tr>\n",
       "    <tr>\n",
       "      <th>609656</th>\n",
       "      <td>222105637</td>\n",
       "      <td>2022-02-15</td>\n",
       "      <td>2022-02-15</td>\n",
       "      <td>00:04</td>\n",
       "      <td>21</td>\n",
       "      <td>Topanga</td>\n",
       "      <td>2145</td>\n",
       "      <td>2</td>\n",
       "      <td>930</td>\n",
       "      <td>CRIMINAL THREATS - NO WEAPON DISPLAYED</td>\n",
       "      <td>...</td>\n",
       "      <td>2022</td>\n",
       "      <td>2</td>\n",
       "      <td>2022-02-15 00:04:00</td>\n",
       "      <td>16.866667</td>\n",
       "      <td>10.866667</td>\n",
       "      <td>67.933333</td>\n",
       "      <td>0.0</td>\n",
       "      <td>239.2</td>\n",
       "      <td>7.52</td>\n",
       "      <td>1014.00</td>\n",
       "    </tr>\n",
       "    <tr>\n",
       "      <th>637869</th>\n",
       "      <td>231516573</td>\n",
       "      <td>2023-10-25</td>\n",
       "      <td>2023-10-19</td>\n",
       "      <td>05:24</td>\n",
       "      <td>15</td>\n",
       "      <td>N Hollywood</td>\n",
       "      <td>1591</td>\n",
       "      <td>2</td>\n",
       "      <td>903</td>\n",
       "      <td>CONTEMPT OF COURT</td>\n",
       "      <td>...</td>\n",
       "      <td>2023</td>\n",
       "      <td>10</td>\n",
       "      <td>2023-10-19 05:24:00</td>\n",
       "      <td>18.120000</td>\n",
       "      <td>16.980000</td>\n",
       "      <td>93.000000</td>\n",
       "      <td>0.0</td>\n",
       "      <td>209.4</td>\n",
       "      <td>3.24</td>\n",
       "      <td>1013.88</td>\n",
       "    </tr>\n",
       "    <tr>\n",
       "      <th>713673</th>\n",
       "      <td>231220384</td>\n",
       "      <td>2023-09-28</td>\n",
       "      <td>2023-09-27</td>\n",
       "      <td>17:30</td>\n",
       "      <td>12</td>\n",
       "      <td>77th Street</td>\n",
       "      <td>1203</td>\n",
       "      <td>1</td>\n",
       "      <td>420</td>\n",
       "      <td>THEFT FROM MOTOR VEHICLE - PETTY ($950 &amp; UNDER)</td>\n",
       "      <td>...</td>\n",
       "      <td>2023</td>\n",
       "      <td>9</td>\n",
       "      <td>2023-09-27 17:30:00</td>\n",
       "      <td>25.000000</td>\n",
       "      <td>14.200000</td>\n",
       "      <td>51.000000</td>\n",
       "      <td>0.0</td>\n",
       "      <td>0.0</td>\n",
       "      <td>0.00</td>\n",
       "      <td>1012.65</td>\n",
       "    </tr>\n",
       "  </tbody>\n",
       "</table>\n",
       "<p>5 rows × 38 columns</p>\n",
       "</div>"
      ],
      "text/plain": [
       "            DR_NO   Date Rptd    DATE OCC TIME OCC  AREA    AREA NAME  \\\n",
       "235103  211504135  2020-01-04  2020-01-04    10:45    15  N Hollywood   \n",
       "661529  232106125  2023-02-26  2023-02-25    21:30    21      Topanga   \n",
       "609656  222105637  2022-02-15  2022-02-15    00:04    21      Topanga   \n",
       "637869  231516573  2023-10-25  2023-10-19    05:24    15  N Hollywood   \n",
       "713673  231220384  2023-09-28  2023-09-27    17:30    12  77th Street   \n",
       "\n",
       "        Rpt Dist No  Part 1-2  Crm Cd  \\\n",
       "235103         1553         1     442   \n",
       "661529         2156         1     331   \n",
       "609656         2145         2     930   \n",
       "637869         1591         2     903   \n",
       "713673         1203         1     420   \n",
       "\n",
       "                                              Crm Cd Desc  ...  Year  Month  \\\n",
       "235103           SHOPLIFTING - PETTY THEFT ($950 & UNDER)  ...  2020      1   \n",
       "661529  THEFT FROM MOTOR VEHICLE - GRAND ($950.01 AND ...  ...  2023      2   \n",
       "609656             CRIMINAL THREATS - NO WEAPON DISPLAYED  ...  2022      2   \n",
       "637869                                  CONTEMPT OF COURT  ...  2023     10   \n",
       "713673    THEFT FROM MOTOR VEHICLE - PETTY ($950 & UNDER)  ...  2023      9   \n",
       "\n",
       "                  Date/Time Temperature (°C)  Dew point (°C) Humidity (%)  \\\n",
       "235103  2020-01-04 10:45:00        11.100000        6.150000    71.750000   \n",
       "661529  2023-02-25 21:30:00         7.250000        5.600000    89.500000   \n",
       "609656  2022-02-15 00:04:00        16.866667       10.866667    67.933333   \n",
       "637869  2023-10-19 05:24:00        18.120000       16.980000    93.000000   \n",
       "713673  2023-09-27 17:30:00        25.000000       14.200000    51.000000   \n",
       "\n",
       "        Precipitation (mm) Wind Direction(degrees°) Windspeed (km/h)  \\\n",
       "235103                 0.0                      0.0             0.00   \n",
       "661529                 2.2                    130.0             2.70   \n",
       "609656                 0.0                    239.2             7.52   \n",
       "637869                 0.0                    209.4             3.24   \n",
       "713673                 0.0                      0.0             0.00   \n",
       "\n",
       "       Air pressure (hPa)  \n",
       "235103            1025.80  \n",
       "661529            1014.00  \n",
       "609656            1014.00  \n",
       "637869            1013.88  \n",
       "713673            1012.65  \n",
       "\n",
       "[5 rows x 38 columns]"
      ]
     },
     "execution_count": 3,
     "metadata": {},
     "output_type": "execute_result"
    }
   ],
   "source": [
    "df = df.drop(['Sunshine total(min)', 'Wind Gust (km/h)', 'Snow depth(mm)'], axis=1)\n",
    "df.sample(5)"
   ]
  },
  {
   "cell_type": "code",
   "execution_count": 4,
   "metadata": {},
   "outputs": [
    {
     "data": {
      "text/plain": [
       "0         0\n",
       "1         0\n",
       "2         0\n",
       "3         1\n",
       "4         0\n",
       "         ..\n",
       "989324    0\n",
       "989325    0\n",
       "989326    0\n",
       "989327    0\n",
       "989328    0\n",
       "Name: Rainy Day, Length: 989329, dtype: int64"
      ]
     },
     "execution_count": 4,
     "metadata": {},
     "output_type": "execute_result"
    }
   ],
   "source": [
    "# Example: Rainy days (assuming a certain threshold of precipitation)\n",
    "df['Rainy Day'] = df['Precipitation (mm)'].apply(lambda x: 1 if x > 0 else 0)\n",
    "df[\"Rainy Day\"]\n"
   ]
  },
  {
   "cell_type": "code",
   "execution_count": 5,
   "metadata": {},
   "outputs": [
    {
     "data": {
      "text/html": [
       "<div>\n",
       "<style scoped>\n",
       "    .dataframe tbody tr th:only-of-type {\n",
       "        vertical-align: middle;\n",
       "    }\n",
       "\n",
       "    .dataframe tbody tr th {\n",
       "        vertical-align: top;\n",
       "    }\n",
       "\n",
       "    .dataframe thead th {\n",
       "        text-align: right;\n",
       "    }\n",
       "</style>\n",
       "<table border=\"1\" class=\"dataframe\">\n",
       "  <thead>\n",
       "    <tr style=\"text-align: right;\">\n",
       "      <th></th>\n",
       "      <th>DR_NO</th>\n",
       "      <th>Date Rptd</th>\n",
       "      <th>DATE OCC</th>\n",
       "      <th>TIME OCC</th>\n",
       "      <th>AREA</th>\n",
       "      <th>AREA NAME</th>\n",
       "      <th>Rpt Dist No</th>\n",
       "      <th>Part 1-2</th>\n",
       "      <th>Crm Cd</th>\n",
       "      <th>Crm Cd Desc</th>\n",
       "      <th>...</th>\n",
       "      <th>Month</th>\n",
       "      <th>Date/Time</th>\n",
       "      <th>Temperature (°C)</th>\n",
       "      <th>Dew point (°C)</th>\n",
       "      <th>Humidity (%)</th>\n",
       "      <th>Precipitation (mm)</th>\n",
       "      <th>Wind Direction(degrees°)</th>\n",
       "      <th>Windspeed (km/h)</th>\n",
       "      <th>Air pressure (hPa)</th>\n",
       "      <th>Rainy Day</th>\n",
       "    </tr>\n",
       "  </thead>\n",
       "  <tbody>\n",
       "    <tr>\n",
       "      <th>436140</th>\n",
       "      <td>220111129</td>\n",
       "      <td>2022-04-26</td>\n",
       "      <td>2022-04-24</td>\n",
       "      <td>21:00</td>\n",
       "      <td>1</td>\n",
       "      <td>Central</td>\n",
       "      <td>144</td>\n",
       "      <td>1</td>\n",
       "      <td>230</td>\n",
       "      <td>ASSAULT WITH DEADLY WEAPON, AGGRAVATED ASSAULT</td>\n",
       "      <td>...</td>\n",
       "      <td>4</td>\n",
       "      <td>2022-04-24 21:00:00</td>\n",
       "      <td>28.00</td>\n",
       "      <td>-2.00</td>\n",
       "      <td>14.0</td>\n",
       "      <td>0.0</td>\n",
       "      <td>260.0</td>\n",
       "      <td>11.0</td>\n",
       "      <td>1015.00</td>\n",
       "      <td>0</td>\n",
       "    </tr>\n",
       "    <tr>\n",
       "      <th>681169</th>\n",
       "      <td>231420120</td>\n",
       "      <td>2023-11-11</td>\n",
       "      <td>2023-11-10</td>\n",
       "      <td>21:30</td>\n",
       "      <td>14</td>\n",
       "      <td>Pacific</td>\n",
       "      <td>1411</td>\n",
       "      <td>1</td>\n",
       "      <td>320</td>\n",
       "      <td>BURGLARY, ATTEMPTED</td>\n",
       "      <td>...</td>\n",
       "      <td>11</td>\n",
       "      <td>2023-11-10 21:30:00</td>\n",
       "      <td>23.85</td>\n",
       "      <td>-1.15</td>\n",
       "      <td>19.0</td>\n",
       "      <td>0.0</td>\n",
       "      <td>130.0</td>\n",
       "      <td>2.7</td>\n",
       "      <td>1015.25</td>\n",
       "      <td>0</td>\n",
       "    </tr>\n",
       "    <tr>\n",
       "      <th>739958</th>\n",
       "      <td>230415207</td>\n",
       "      <td>2023-12-09</td>\n",
       "      <td>2023-12-08</td>\n",
       "      <td>14:30</td>\n",
       "      <td>4</td>\n",
       "      <td>Hollenbeck</td>\n",
       "      <td>477</td>\n",
       "      <td>1</td>\n",
       "      <td>440</td>\n",
       "      <td>THEFT PLAIN - PETTY ($950 &amp; UNDER)</td>\n",
       "      <td>...</td>\n",
       "      <td>12</td>\n",
       "      <td>2023-12-08 14:30:00</td>\n",
       "      <td>11.95</td>\n",
       "      <td>6.20</td>\n",
       "      <td>68.0</td>\n",
       "      <td>0.0</td>\n",
       "      <td>0.0</td>\n",
       "      <td>0.0</td>\n",
       "      <td>1018.05</td>\n",
       "      <td>0</td>\n",
       "    </tr>\n",
       "    <tr>\n",
       "      <th>458330</th>\n",
       "      <td>221307616</td>\n",
       "      <td>2022-03-08</td>\n",
       "      <td>2022-03-08</td>\n",
       "      <td>20:48</td>\n",
       "      <td>13</td>\n",
       "      <td>Newton</td>\n",
       "      <td>1371</td>\n",
       "      <td>1</td>\n",
       "      <td>210</td>\n",
       "      <td>ROBBERY</td>\n",
       "      <td>...</td>\n",
       "      <td>3</td>\n",
       "      <td>2022-03-08 20:48:00</td>\n",
       "      <td>19.20</td>\n",
       "      <td>-8.04</td>\n",
       "      <td>15.0</td>\n",
       "      <td>0.0</td>\n",
       "      <td>236.0</td>\n",
       "      <td>6.2</td>\n",
       "      <td>1018.20</td>\n",
       "      <td>0</td>\n",
       "    </tr>\n",
       "    <tr>\n",
       "      <th>814941</th>\n",
       "      <td>230705435</td>\n",
       "      <td>2023-02-01</td>\n",
       "      <td>2023-02-01</td>\n",
       "      <td>13:06</td>\n",
       "      <td>7</td>\n",
       "      <td>Wilshire</td>\n",
       "      <td>736</td>\n",
       "      <td>1</td>\n",
       "      <td>442</td>\n",
       "      <td>SHOPLIFTING - PETTY THEFT ($950 &amp; UNDER)</td>\n",
       "      <td>...</td>\n",
       "      <td>2</td>\n",
       "      <td>2023-02-01 13:06:00</td>\n",
       "      <td>5.00</td>\n",
       "      <td>-1.86</td>\n",
       "      <td>61.3</td>\n",
       "      <td>0.0</td>\n",
       "      <td>3.2</td>\n",
       "      <td>1.4</td>\n",
       "      <td>1020.10</td>\n",
       "      <td>0</td>\n",
       "    </tr>\n",
       "  </tbody>\n",
       "</table>\n",
       "<p>5 rows × 39 columns</p>\n",
       "</div>"
      ],
      "text/plain": [
       "            DR_NO   Date Rptd    DATE OCC TIME OCC  AREA   AREA NAME  \\\n",
       "436140  220111129  2022-04-26  2022-04-24    21:00     1     Central   \n",
       "681169  231420120  2023-11-11  2023-11-10    21:30    14     Pacific   \n",
       "739958  230415207  2023-12-09  2023-12-08    14:30     4  Hollenbeck   \n",
       "458330  221307616  2022-03-08  2022-03-08    20:48    13      Newton   \n",
       "814941  230705435  2023-02-01  2023-02-01    13:06     7    Wilshire   \n",
       "\n",
       "        Rpt Dist No  Part 1-2  Crm Cd  \\\n",
       "436140          144         1     230   \n",
       "681169         1411         1     320   \n",
       "739958          477         1     440   \n",
       "458330         1371         1     210   \n",
       "814941          736         1     442   \n",
       "\n",
       "                                           Crm Cd Desc  ... Month  \\\n",
       "436140  ASSAULT WITH DEADLY WEAPON, AGGRAVATED ASSAULT  ...     4   \n",
       "681169                             BURGLARY, ATTEMPTED  ...    11   \n",
       "739958              THEFT PLAIN - PETTY ($950 & UNDER)  ...    12   \n",
       "458330                                         ROBBERY  ...     3   \n",
       "814941        SHOPLIFTING - PETTY THEFT ($950 & UNDER)  ...     2   \n",
       "\n",
       "                  Date/Time  Temperature (°C) Dew point (°C)  Humidity (%)  \\\n",
       "436140  2022-04-24 21:00:00             28.00          -2.00          14.0   \n",
       "681169  2023-11-10 21:30:00             23.85          -1.15          19.0   \n",
       "739958  2023-12-08 14:30:00             11.95           6.20          68.0   \n",
       "458330  2022-03-08 20:48:00             19.20          -8.04          15.0   \n",
       "814941  2023-02-01 13:06:00              5.00          -1.86          61.3   \n",
       "\n",
       "       Precipitation (mm)  Wind Direction(degrees°) Windspeed (km/h)  \\\n",
       "436140                0.0                     260.0             11.0   \n",
       "681169                0.0                     130.0              2.7   \n",
       "739958                0.0                       0.0              0.0   \n",
       "458330                0.0                     236.0              6.2   \n",
       "814941                0.0                       3.2              1.4   \n",
       "\n",
       "       Air pressure (hPa) Rainy Day  \n",
       "436140            1015.00         0  \n",
       "681169            1015.25         0  \n",
       "739958            1018.05         0  \n",
       "458330            1018.20         0  \n",
       "814941            1020.10         0  \n",
       "\n",
       "[5 rows x 39 columns]"
      ]
     },
     "execution_count": 5,
     "metadata": {},
     "output_type": "execute_result"
    }
   ],
   "source": [
    "df.sample(5)"
   ]
  },
  {
   "cell_type": "code",
   "execution_count": 6,
   "metadata": {},
   "outputs": [],
   "source": [
    "column_names = df.columns.tolist()"
   ]
  },
  {
   "cell_type": "code",
   "execution_count": 8,
   "metadata": {},
   "outputs": [
    {
     "name": "stdout",
     "output_type": "stream",
     "text": [
      "<class 'pandas.core.frame.DataFrame'>\n",
      "RangeIndex: 989329 entries, 0 to 989328\n",
      "Data columns (total 39 columns):\n",
      " #   Column                    Non-Null Count   Dtype  \n",
      "---  ------                    --------------   -----  \n",
      " 0   DR_NO                     989329 non-null  int64  \n",
      " 1   Date Rptd                 989329 non-null  object \n",
      " 2   DATE OCC                  989329 non-null  object \n",
      " 3   TIME OCC                  989329 non-null  object \n",
      " 4   AREA                      989329 non-null  int64  \n",
      " 5   AREA NAME                 989329 non-null  object \n",
      " 6   Rpt Dist No               989329 non-null  int64  \n",
      " 7   Part 1-2                  989329 non-null  int64  \n",
      " 8   Crm Cd                    989329 non-null  int64  \n",
      " 9   Crm Cd Desc               989329 non-null  object \n",
      " 10  Mocodes                   840950 non-null  object \n",
      " 11  Vict Age                  989329 non-null  int64  \n",
      " 12  Vict Sex                  989329 non-null  float64\n",
      " 13  Vict Descent              847756 non-null  object \n",
      " 14  Premis Cd                 989313 non-null  float64\n",
      " 15  Premis Desc               988761 non-null  object \n",
      " 16  Weapon Used Cd            324301 non-null  float64\n",
      " 17  Weapon Desc               324301 non-null  object \n",
      " 18  Status                    989328 non-null  object \n",
      " 19  Status Desc               989329 non-null  object \n",
      " 20  Crm Cd 1                  989318 non-null  float64\n",
      " 21  Crm Cd 2                  68823 non-null   float64\n",
      " 22  Crm Cd 3                  2312 non-null    float64\n",
      " 23  Crm Cd 4                  61 non-null      float64\n",
      " 24  LOCATION                  989329 non-null  object \n",
      " 25  Cross Street              151168 non-null  object \n",
      " 26  LAT                       989329 non-null  float64\n",
      " 27  LON                       989329 non-null  float64\n",
      " 28  Year                      989329 non-null  int64  \n",
      " 29  Month                     989329 non-null  int64  \n",
      " 30  Date/Time                 989329 non-null  object \n",
      " 31  Temperature (°C)          989329 non-null  float64\n",
      " 32  Dew point (°C)            989329 non-null  float64\n",
      " 33  Humidity (%)              989329 non-null  float64\n",
      " 34  Precipitation (mm)        989329 non-null  float64\n",
      " 35  Wind Direction(degrees°)  989329 non-null  float64\n",
      " 36  Windspeed (km/h)          989329 non-null  float64\n",
      " 37  Air pressure (hPa)        989329 non-null  float64\n",
      " 38  Rainy Day                 989329 non-null  int64  \n",
      "dtypes: float64(16), int64(9), object(14)\n",
      "memory usage: 294.4+ MB\n",
      "None\n"
     ]
    }
   ],
   "source": [
    "print(df.info())"
   ]
  },
  {
   "cell_type": "code",
   "execution_count": 9,
   "metadata": {},
   "outputs": [
    {
     "data": {
      "text/plain": [
       "0                                               STREET\n",
       "1                    BUS STOP/LAYOVER (ALSO QUERY 124)\n",
       "2         MULTI-UNIT DWELLING (APARTMENT, DUPLEX, ETC)\n",
       "3                                       CLOTHING STORE\n",
       "4                                               STREET\n",
       "                              ...                     \n",
       "989324                              VIDEO RENTAL STORE\n",
       "989325                                          STREET\n",
       "989326                                           HOTEL\n",
       "989327                            RESTAURANT/FAST FOOD\n",
       "989328                                        SIDEWALK\n",
       "Name: Premis Desc, Length: 989329, dtype: object"
      ]
     },
     "execution_count": 9,
     "metadata": {},
     "output_type": "execute_result"
    }
   ],
   "source": [
    "df['Premis Desc']"
   ]
  },
  {
   "cell_type": "markdown",
   "metadata": {},
   "source": [
    "## All the colums..."
   ]
  },
  {
   "cell_type": "markdown",
   "metadata": {},
   "source": [
    "| No  | Column                    | Non-Null Count         | Dtype   |\n",
    "| --- | -------------------------- | ---------------------- | ------- |\n",
    "| 0   | DR_NO                      | 989329 non-null        | int64   |\n",
    "| 1   | Date Rptd                  | 989329 non-null        | object  |\n",
    "| 2   | DATE OCC                   | 989329 non-null        | object  |\n",
    "| 3   | TIME OCC                   | 989329 non-null        | object  |\n",
    "| 4   | AREA                       | 989329 non-null        | int64   |\n",
    "| 5   | AREA NAME                  | 989329 non-null        | object  |\n",
    "| 6   | Rpt Dist No                | 989329 non-null        | int64   |\n",
    "| 7   | Part 1-2                   | 989329 non-null        | int64   |\n",
    "| 8   | Crm Cd                     | 989329 non-null        | int64   |\n",
    "| 9   | Crm Cd Desc                | 989329 non-null        | object  |\n",
    "| 10  | Mocodes                    | 840950 non-null        | object  |\n",
    "| 11  | Vict Age                   | 989329 non-null        | int64   |\n",
    "| 12  | Vict Sex                   | 989329 non-null        | float64 |\n",
    "| 13  | Vict Descent               | 847756 non-null        | object  |\n",
    "| 14  | Premis Cd                  | 989313 non-null        | float64 |\n",
    "| 15  | Premis Desc                | 988761 non-null        | object  |\n",
    "| 16  | Weapon Used Cd             | 324301 non-null        | float64 |\n",
    "| 17  | Weapon Desc                | 324301 non-null        | object  |\n",
    "| 18  | Status                     | 989328 non-null        | object  |\n",
    "| 19  | Status Desc                | 989329 non-null        | object  |\n",
    "| 20  | Crm Cd 1                   | 989318 non-null        | float64 |\n",
    "| 21  | Crm Cd 2                   | 68823 non-null         | float64 |\n",
    "| 22  | Crm Cd 3                   | 2312 non-null          | float64 |\n",
    "| 23  | Crm Cd 4                   | 61 non-null            | float64 |\n",
    "| 24  | LOCATION                   | 989329 non-null        | object  |\n",
    "| 25  | Cross Street               | 151168 non-null        | object  |\n",
    "| 26  | LAT                        | 989329 non-null        | float64 |\n",
    "| 27  | LON                        | 989329 non-null        | float64 |\n",
    "| 28  | Year                       | 989329 non-null        | int64   |\n",
    "| 29  | Month                      | 989329 non-null        | int64   |\n",
    "| 30  | Date/Time                  | 989329 non-null        | object  |\n",
    "| 31  | Temperature (°C)           | 989329 non-null        | float64 |\n",
    "| 32  | Dew point (°C)             | 989329 non-null        | float64 |\n",
    "| 33  | Humidity (%)               | 989329 non-null        | float64 |\n",
    "| 34  | Precipitation (mm)         | 989329 non-null        | float64 |\n",
    "| 35  | Wind Direction(degrees°)   | 989329 non-null        | float64 |\n",
    "| 36  | Windspeed (km/h)           | 989329 non-null        | float64 |\n",
    "| 37  | Air pressure (hPa)         | 989329 non-null        | float64 |\n",
    "| 38  | Rainy Day                  | 989329 non-null        | int64   |\n"
   ]
  },
  {
   "cell_type": "code",
   "execution_count": 16,
   "metadata": {},
   "outputs": [],
   "source": [
    "import pandas as pd\n",
    "# import mysql.connector\n",
    "import pymysql\n",
    "from tqdm import tqdm  # Import tqdm for progress bar\n"
   ]
  },
  {
   "cell_type": "code",
   "execution_count": 12,
   "metadata": {},
   "outputs": [
    {
     "name": "stdout",
     "output_type": "stream",
     "text": [
      "Sucessfully connect....\n"
     ]
    }
   ],
   "source": [
    "# Connect to MySQL\n",
    "conn = pymysql.connect(\n",
    "    host=\"localhost\",\n",
    "    user=\"root\",\n",
    "    password=\"MS@sltc\",\n",
    "    database=\"LAPD_Crime_Data\",\n",
    "    autocommit=True \n",
    ")\n",
    "print(\"Sucessfully connect....\")\n"
   ]
  },
  {
   "cell_type": "code",
   "execution_count": 13,
   "metadata": {},
   "outputs": [
    {
     "name": "stdout",
     "output_type": "stream",
     "text": [
      "Duplicate rows:\n",
      "            DR_NO   Date Rptd    DATE OCC TIME OCC  AREA   AREA NAME  \\\n",
      "77264   202007663  2020-03-17  2020-03-15    03:00    20     Olympic   \n",
      "77497   201415240  2020-08-10  2020-08-09    22:00    14     Pacific   \n",
      "78605   201611598  2020-08-01  2020-08-01    07:30    16    Foothill   \n",
      "112507  201816639  2020-09-04  2020-08-29    01:00    18   Southeast   \n",
      "112783  221315910  2020-10-29  2020-08-02    14:15    13      Newton   \n",
      "...           ...         ...         ...      ...   ...         ...   \n",
      "397931  202105842  2020-02-10  2020-02-07    11:20    21     Topanga   \n",
      "397934  201421622  2020-12-14  2020-10-31    17:00    14     Pacific   \n",
      "397936  201813651  2020-07-07  2020-07-07    20:09    18   Southeast   \n",
      "397938  201708251  2020-04-16  2020-04-16    07:15    17  Devonshire   \n",
      "397941  201711753  2020-08-01  2020-08-01    00:20    17  Devonshire   \n",
      "\n",
      "        Rpt Dist No  Part 1-2  Crm Cd  \\\n",
      "77264          2034         1     510   \n",
      "77497          1434         1     510   \n",
      "78605          1675         1     510   \n",
      "112507         1834         1     510   \n",
      "112783         1361         2     354   \n",
      "...             ...       ...     ...   \n",
      "397931         2144         1     440   \n",
      "397934         1446         2     888   \n",
      "397936         1837         1     230   \n",
      "397938         1722         1     341   \n",
      "397941         1725         1     510   \n",
      "\n",
      "                                              Crm Cd Desc  ... Month  \\\n",
      "77264                                    VEHICLE - STOLEN  ...     3   \n",
      "77497                                    VEHICLE - STOLEN  ...     8   \n",
      "78605                                    VEHICLE - STOLEN  ...     8   \n",
      "112507                                   VEHICLE - STOLEN  ...     8   \n",
      "112783                                  THEFT OF IDENTITY  ...     8   \n",
      "...                                                   ...  ...   ...   \n",
      "397931                 THEFT PLAIN - PETTY ($950 & UNDER)  ...     2   \n",
      "397934                                        TRESPASSING  ...    10   \n",
      "397936     ASSAULT WITH DEADLY WEAPON, AGGRAVATED ASSAULT  ...     7   \n",
      "397938  THEFT-GRAND ($950.01 & OVER)EXCPT,GUNS,FOWL,LI...  ...     4   \n",
      "397941                                   VEHICLE - STOLEN  ...     8   \n",
      "\n",
      "                  Date/Time  Temperature (°C) Dew point (°C)  Humidity (%)  \\\n",
      "77264   2020-03-15 03:00:00            15.000      10.600000     75.000000   \n",
      "77497   2020-08-09 22:00:00            24.400      14.500000     54.000000   \n",
      "78605   2020-08-01 07:30:00            18.300      14.400000     78.000000   \n",
      "112507  2020-08-29 01:00:00            23.300      15.100000     60.000000   \n",
      "112783  2020-08-02 14:15:00            20.275      16.725000     80.250000   \n",
      "...                     ...               ...            ...           ...   \n",
      "397931  2020-02-07 11:20:00             9.800       3.733333     66.000000   \n",
      "397934  2020-10-31 17:00:00            22.200       3.300000     29.000000   \n",
      "397936  2020-07-07 20:09:00            26.700      16.600000     54.000000   \n",
      "397938  2020-04-16 07:15:00            16.925      11.025000     68.250000   \n",
      "397941  2020-08-01 00:20:00            26.500      12.766667     42.666667   \n",
      "\n",
      "       Precipitation (mm)  Wind Direction(degrees°) Windspeed (km/h)  \\\n",
      "77264                 0.0                  0.000000              0.0   \n",
      "77497                 0.0                280.000000             13.0   \n",
      "78605                 0.0                  0.000000              0.0   \n",
      "112507                0.0                260.000000              5.4   \n",
      "112783                0.0                  0.000000              0.0   \n",
      "...                   ...                       ...              ...   \n",
      "397931                0.0                  0.000000              0.0   \n",
      "397934                0.0                  0.000000              0.0   \n",
      "397936                0.0                260.000000              5.4   \n",
      "397938                0.0                  0.000000              0.0   \n",
      "397941                0.0                263.333333             13.6   \n",
      "\n",
      "       Air pressure (hPa) Rainy Day  \n",
      "77264         1019.500000         0  \n",
      "77497         1012.800000         0  \n",
      "78605         1011.350000         0  \n",
      "112507        1008.500000         0  \n",
      "112783        1014.100000         0  \n",
      "...                   ...       ...  \n",
      "397931        1018.300000         0  \n",
      "397934        1016.600000         0  \n",
      "397936        1011.440000         0  \n",
      "397938        1013.825000         0  \n",
      "397941        1010.933333         0  \n",
      "\n",
      "[161082 rows x 39 columns]\n"
     ]
    }
   ],
   "source": [
    "# Check for duplicates in the primary key column\n",
    "duplicates = df[df.duplicated(subset=\"DR_NO\", keep=False)]\n",
    "print(\"Duplicate rows:\")\n",
    "print(duplicates)\n"
   ]
  },
  {
   "cell_type": "markdown",
   "metadata": {},
   "source": [
    "# Optimised for Batch Insertions\n"
   ]
  },
  {
   "cell_type": "markdown",
   "metadata": {},
   "source": [
    "### Batch Size:\n",
    "The batch_size variable (e.g., 1000) determines how many rows are inserted at once. You can adjust it based on your system's resources.\n"
   ]
  },
  {
   "cell_type": "markdown",
   "metadata": {},
   "source": [
    "### Executemany:\n",
    "Used to insert multiple rows in one query.\n"
   ]
  },
  {
   "cell_type": "markdown",
   "metadata": {},
   "source": [
    "### Error Handling in Batches:\n",
    "Each batch is wrapped in a try-except block to handle errors without halting the entire process.\n"
   ]
  },
  {
   "cell_type": "markdown",
   "metadata": {},
   "source": [
    "### Prepared Data:\n",
    "The rows are pre-processed into a list of tuples (rows = [tuple(row) for _, row in data.iterrows()]), which is compatible with executemany.\n"
   ]
  },
  {
   "cell_type": "markdown",
   "metadata": {},
   "source": [
    "\n",
    "### Improved Connection Management:\n",
    "conn.ping(reconnect=True) ensures the connection is active before each operation.\n"
   ]
  },
  {
   "cell_type": "markdown",
   "metadata": {},
   "source": [
    "### Benefits of Batch Insertion:\n",
    "- Speed: Reduces the number of queries sent to the database.\n",
    "- Error Isolation: Errors are logged for specific batches rather than individual rows.\n",
    "- Efficiency: Utilises database resources more effectively."
   ]
  },
  {
   "cell_type": "markdown",
   "metadata": {},
   "source": [
    "\n",
    "### Estimation for 1 Million Rows:\n",
    "With a batch size of 1000, this approach will process approximately 1000 queries (1 million rows ÷ 1000 batch size). Depending on your system, this method should insert 1 million rows in 10–30 minutes."
   ]
  },
  {
   "cell_type": "code",
   "execution_count": 18,
   "metadata": {},
   "outputs": [
    {
     "name": "stderr",
     "output_type": "stream",
     "text": [
      "Inserting rows: 100%|██████████| 990/990 [07:25<00:00,  2.22batch/s]"
     ]
    },
    {
     "name": "stdout",
     "output_type": "stream",
     "text": [
      "Data inserted successfully!\n",
      "Complete!!!\n"
     ]
    },
    {
     "name": "stderr",
     "output_type": "stream",
     "text": [
      "\n"
     ]
    }
   ],
   "source": [
    "cursor = conn.cursor()\n",
    "\n",
    "# Insert data into the table\n",
    "insert_query = \"\"\"\n",
    "INSERT INTO crime_data (\n",
    "    DR_NO, Date_Rptd, DATE_OCC, TIME_OCC, AREA, AREA_NAME, Rpt_Dist_No, Part_1_2,\n",
    "    Crm_Cd, Crm_Cd_Desc, Mocodes, Vict_Age, Vict_Sex, Vict_Descent, Premis_Cd,\n",
    "    Premis_Desc, Weapon_Used_Cd, Weapon_Desc, Status, Status_Desc, Crm_Cd_1,\n",
    "    Crm_Cd_2, Crm_Cd_3, Crm_Cd_4, LOCATION, Cross_Street, LAT, LON, Year, Month,\n",
    "    Date_Time, Temperature_C, Dew_point_C, Humidity, Precipitation_mm,\n",
    "    Wind_Direction, Windspeed_kmh, Air_pressure_hPa, Rainy_Day\n",
    ") VALUES (%s, %s, %s, %s, %s, %s, %s, %s, %s, %s, %s, %s, %s, %s, %s, %s, %s,\n",
    "    %s, %s, %s, %s, %s, %s, %s, %s, %s, %s, %s, %s, %s, %s, %s, %s, %s, %s, %s, %s, %s, %s)\n",
    "\"\"\"\n",
    "\n",
    "data = df.replace({pd.NA: None, np.nan: None})\n",
    "\n",
    "# Replace NaN with None to handle null values\n",
    "data = data.where(pd.notnull(df), None)\n",
    "\n",
    "# Prepare data as a list of tuples\n",
    "rows = [tuple(row) for _, row in data.iterrows()]\n",
    "\n",
    "# Set the batch size\n",
    "batch_size = 1000\n",
    "\n",
    "try:\n",
    "    # Insert data in batches with tqdm for progress tracking\n",
    "    for i in tqdm(range(0, len(rows), batch_size), desc=\"Inserting Batches\", unit=\"batch\"):\n",
    "        batch = rows[i:i + batch_size]\n",
    "        try:\n",
    "            conn.ping(reconnect=True)  # Ensure connection is active\n",
    "            cursor.executemany(insert_query, batch)  # Batch insert\n",
    "        except Exception as batch_error:\n",
    "            print(f\"Error inserting batch starting at index {i}: {batch_error}\")\n",
    "            break  # Exit the loop to debug the issue\n",
    "\n",
    "    # Commit changes\n",
    "    conn.ping(reconnect=True)  # Ensure connection is active\n",
    "    conn.commit()\n",
    "    print(\"Data inserted successfully!\")\n",
    "except pymysql.InterfaceError as conn_error:\n",
    "    print(\"Connection lost. Attempting to reconnect...\")\n",
    "    conn.ping(reconnect=True)\n",
    "    conn.commit()\n",
    "except Exception as e:\n",
    "    print(\"Unexpected error occurred:\", e)\n",
    "finally:\n",
    "    cursor.close()\n",
    "    conn.close()\n",
    "    print(\"Complete!!!\")"
   ]
  },
  {
   "cell_type": "markdown",
   "metadata": {},
   "source": [
    "## SQL "
   ]
  },
  {
   "cell_type": "markdown",
   "metadata": {},
   "source": [
    "### Data Analysis in the Sql DataBase....."
   ]
  },
  {
   "cell_type": "code",
   "execution_count": 2,
   "metadata": {},
   "outputs": [],
   "source": [
    "import pandas as pd\n",
    "import mysql.connector\n",
    "import matplotlib.pyplot as plt\n",
    "import pymysql\n",
    "from tqdm import tqdm "
   ]
  },
  {
   "cell_type": "code",
   "execution_count": 3,
   "metadata": {},
   "outputs": [
    {
     "name": "stdout",
     "output_type": "stream",
     "text": [
      "Sucessfully connect....\n"
     ]
    }
   ],
   "source": [
    "# Connect to MySQL\n",
    "conn = pymysql.connect(\n",
    "    host=\"localhost\",\n",
    "    user=\"root\",\n",
    "    password=\"MS@sltc\",\n",
    "    database=\"LAPD_Crime_Data\",\n",
    "    autocommit=True \n",
    ")\n",
    "print(\"Sucessfully connect....\")\n"
   ]
  },
  {
   "cell_type": "code",
   "execution_count": 6,
   "metadata": {},
   "outputs": [
    {
     "name": "stderr",
     "output_type": "stream",
     "text": [
      "/tmp/ipykernel_21368/1208786391.py:8: UserWarning: pandas only supports SQLAlchemy connectable (engine/connection) or database string URI or sqlite3 DBAPI2 connection. Other DBAPI2 objects are not tested. Please consider using SQLAlchemy.\n",
      "  df = pd.read_sql(query, conn)\n"
     ]
    }
   ],
   "source": [
    "from tqdm import tqdm\n",
    "\n",
    "# Add tqdm progress bar\n",
    "tqdm.pandas(desc=\"Executing Query\")\n",
    "\n",
    "# Query the data\n",
    "query = \"SELECT Time_OCC AS Hour, COUNT(*) AS CrimeCount FROM crime_data GROUP BY Hour ORDER BY Hour;\"\n",
    "df = pd.read_sql(query, conn)\n"
   ]
  },
  {
   "cell_type": "code",
   "execution_count": 8,
   "metadata": {},
   "outputs": [
    {
     "data": {
      "text/plain": [
       "0      0 days 00:01:00\n",
       "1      0 days 00:02:00\n",
       "2      0 days 00:03:00\n",
       "3      0 days 00:04:00\n",
       "4      0 days 00:05:00\n",
       "             ...      \n",
       "1434   0 days 23:55:00\n",
       "1435   0 days 23:56:00\n",
       "1436   0 days 23:57:00\n",
       "1437   0 days 23:58:00\n",
       "1438   0 days 23:59:00\n",
       "Name: Hour, Length: 1439, dtype: timedelta64[ns]"
      ]
     },
     "execution_count": 8,
     "metadata": {},
     "output_type": "execute_result"
    }
   ],
   "source": [
    "df['Hour']"
   ]
  },
  {
   "cell_type": "code",
   "execution_count": 10,
   "metadata": {},
   "outputs": [
    {
     "data": {
      "text/plain": [
       "0        0.0\n",
       "1        0.0\n",
       "2        0.0\n",
       "3        0.0\n",
       "4        0.0\n",
       "        ... \n",
       "1434    23.0\n",
       "1435    23.0\n",
       "1436    23.0\n",
       "1437    23.0\n",
       "1438    23.0\n",
       "Name: Hour, Length: 1439, dtype: float64"
      ]
     },
     "execution_count": 10,
     "metadata": {},
     "output_type": "execute_result"
    }
   ],
   "source": [
    "df['Hour'].dt.total_seconds() // 3600"
   ]
  },
  {
   "cell_type": "code",
   "execution_count": 11,
   "metadata": {},
   "outputs": [
    {
     "ename": "TypeError",
     "evalue": "the dtypes of parameters x (timedelta64[ns]) and width (float64) are incompatible",
     "output_type": "error",
     "traceback": [
      "\u001b[0;31m---------------------------------------------------------------------------\u001b[0m",
      "\u001b[0;31mUFuncTypeError\u001b[0m                            Traceback (most recent call last)",
      "File \u001b[0;32m~/Projects/Python_Projects/Python_venvs/Image_processing_01/lib/python3.12/site-packages/matplotlib/axes/_axes.py:2561\u001b[0m, in \u001b[0;36mAxes.bar\u001b[0;34m(self, x, height, width, bottom, align, **kwargs)\u001b[0m\n\u001b[1;32m   2560\u001b[0m \u001b[38;5;28;01mtry\u001b[39;00m:\n\u001b[0;32m-> 2561\u001b[0m     left \u001b[38;5;241m=\u001b[39m \u001b[43mx\u001b[49m\u001b[43m \u001b[49m\u001b[38;5;241;43m-\u001b[39;49m\u001b[43m \u001b[49m\u001b[43mwidth\u001b[49m\u001b[43m \u001b[49m\u001b[38;5;241;43m/\u001b[39;49m\u001b[43m \u001b[49m\u001b[38;5;241;43m2\u001b[39;49m\n\u001b[1;32m   2562\u001b[0m \u001b[38;5;28;01mexcept\u001b[39;00m \u001b[38;5;167;01mTypeError\u001b[39;00m \u001b[38;5;28;01mas\u001b[39;00m e:\n",
      "\u001b[0;31mUFuncTypeError\u001b[0m: ufunc 'subtract' cannot use operands with types dtype('<m8[ns]') and dtype('float64')",
      "\nThe above exception was the direct cause of the following exception:\n",
      "\u001b[0;31mTypeError\u001b[0m                                 Traceback (most recent call last)",
      "Cell \u001b[0;32mIn[11], line 3\u001b[0m\n\u001b[1;32m      1\u001b[0m \u001b[38;5;66;03m# Plot the results\u001b[39;00m\n\u001b[1;32m      2\u001b[0m plt\u001b[38;5;241m.\u001b[39mfigure(figsize\u001b[38;5;241m=\u001b[39m(\u001b[38;5;241m10\u001b[39m, \u001b[38;5;241m6\u001b[39m))\n\u001b[0;32m----> 3\u001b[0m \u001b[43mplt\u001b[49m\u001b[38;5;241;43m.\u001b[39;49m\u001b[43mbar\u001b[49m\u001b[43m(\u001b[49m\u001b[43mdf\u001b[49m\u001b[43m[\u001b[49m\u001b[38;5;124;43m'\u001b[39;49m\u001b[38;5;124;43mHour\u001b[39;49m\u001b[38;5;124;43m'\u001b[39;49m\u001b[43m]\u001b[49m\u001b[43m,\u001b[49m\u001b[43m \u001b[49m\u001b[43mdf\u001b[49m\u001b[43m[\u001b[49m\u001b[38;5;124;43m'\u001b[39;49m\u001b[38;5;124;43mCrimeCount\u001b[39;49m\u001b[38;5;124;43m'\u001b[39;49m\u001b[43m]\u001b[49m\u001b[43m,\u001b[49m\u001b[43m \u001b[49m\u001b[43mcolor\u001b[49m\u001b[38;5;241;43m=\u001b[39;49m\u001b[38;5;124;43m'\u001b[39;49m\u001b[38;5;124;43mblue\u001b[39;49m\u001b[38;5;124;43m'\u001b[39;49m\u001b[43m)\u001b[49m\n\u001b[1;32m      4\u001b[0m plt\u001b[38;5;241m.\u001b[39mtitle(\u001b[38;5;124m'\u001b[39m\u001b[38;5;124mCrimes by Hour\u001b[39m\u001b[38;5;124m'\u001b[39m)\n\u001b[1;32m      5\u001b[0m plt\u001b[38;5;241m.\u001b[39mxlabel(\u001b[38;5;124m'\u001b[39m\u001b[38;5;124mHour of Day\u001b[39m\u001b[38;5;124m'\u001b[39m)\n",
      "File \u001b[0;32m~/Projects/Python_Projects/Python_venvs/Image_processing_01/lib/python3.12/site-packages/matplotlib/pyplot.py:2956\u001b[0m, in \u001b[0;36mbar\u001b[0;34m(x, height, width, bottom, align, data, **kwargs)\u001b[0m\n\u001b[1;32m   2945\u001b[0m \u001b[38;5;129m@_copy_docstring_and_deprecators\u001b[39m(Axes\u001b[38;5;241m.\u001b[39mbar)\n\u001b[1;32m   2946\u001b[0m \u001b[38;5;28;01mdef\u001b[39;00m \u001b[38;5;21mbar\u001b[39m(\n\u001b[1;32m   2947\u001b[0m     x: \u001b[38;5;28mfloat\u001b[39m \u001b[38;5;241m|\u001b[39m ArrayLike,\n\u001b[0;32m   (...)\u001b[0m\n\u001b[1;32m   2954\u001b[0m     \u001b[38;5;241m*\u001b[39m\u001b[38;5;241m*\u001b[39mkwargs,\n\u001b[1;32m   2955\u001b[0m ) \u001b[38;5;241m-\u001b[39m\u001b[38;5;241m>\u001b[39m BarContainer:\n\u001b[0;32m-> 2956\u001b[0m     \u001b[38;5;28;01mreturn\u001b[39;00m \u001b[43mgca\u001b[49m\u001b[43m(\u001b[49m\u001b[43m)\u001b[49m\u001b[38;5;241;43m.\u001b[39;49m\u001b[43mbar\u001b[49m\u001b[43m(\u001b[49m\n\u001b[1;32m   2957\u001b[0m \u001b[43m        \u001b[49m\u001b[43mx\u001b[49m\u001b[43m,\u001b[49m\n\u001b[1;32m   2958\u001b[0m \u001b[43m        \u001b[49m\u001b[43mheight\u001b[49m\u001b[43m,\u001b[49m\n\u001b[1;32m   2959\u001b[0m \u001b[43m        \u001b[49m\u001b[43mwidth\u001b[49m\u001b[38;5;241;43m=\u001b[39;49m\u001b[43mwidth\u001b[49m\u001b[43m,\u001b[49m\n\u001b[1;32m   2960\u001b[0m \u001b[43m        \u001b[49m\u001b[43mbottom\u001b[49m\u001b[38;5;241;43m=\u001b[39;49m\u001b[43mbottom\u001b[49m\u001b[43m,\u001b[49m\n\u001b[1;32m   2961\u001b[0m \u001b[43m        \u001b[49m\u001b[43malign\u001b[49m\u001b[38;5;241;43m=\u001b[39;49m\u001b[43malign\u001b[49m\u001b[43m,\u001b[49m\n\u001b[1;32m   2962\u001b[0m \u001b[43m        \u001b[49m\u001b[38;5;241;43m*\u001b[39;49m\u001b[38;5;241;43m*\u001b[39;49m\u001b[43m(\u001b[49m\u001b[43m{\u001b[49m\u001b[38;5;124;43m\"\u001b[39;49m\u001b[38;5;124;43mdata\u001b[39;49m\u001b[38;5;124;43m\"\u001b[39;49m\u001b[43m:\u001b[49m\u001b[43m \u001b[49m\u001b[43mdata\u001b[49m\u001b[43m}\u001b[49m\u001b[43m \u001b[49m\u001b[38;5;28;43;01mif\u001b[39;49;00m\u001b[43m \u001b[49m\u001b[43mdata\u001b[49m\u001b[43m \u001b[49m\u001b[38;5;129;43;01mis\u001b[39;49;00m\u001b[43m \u001b[49m\u001b[38;5;129;43;01mnot\u001b[39;49;00m\u001b[43m \u001b[49m\u001b[38;5;28;43;01mNone\u001b[39;49;00m\u001b[43m \u001b[49m\u001b[38;5;28;43;01melse\u001b[39;49;00m\u001b[43m \u001b[49m\u001b[43m{\u001b[49m\u001b[43m}\u001b[49m\u001b[43m)\u001b[49m\u001b[43m,\u001b[49m\n\u001b[1;32m   2963\u001b[0m \u001b[43m        \u001b[49m\u001b[38;5;241;43m*\u001b[39;49m\u001b[38;5;241;43m*\u001b[39;49m\u001b[43mkwargs\u001b[49m\u001b[43m,\u001b[49m\n\u001b[1;32m   2964\u001b[0m \u001b[43m    \u001b[49m\u001b[43m)\u001b[49m\n",
      "File \u001b[0;32m~/Projects/Python_Projects/Python_venvs/Image_processing_01/lib/python3.12/site-packages/matplotlib/__init__.py:1473\u001b[0m, in \u001b[0;36m_preprocess_data.<locals>.inner\u001b[0;34m(ax, data, *args, **kwargs)\u001b[0m\n\u001b[1;32m   1470\u001b[0m \u001b[38;5;129m@functools\u001b[39m\u001b[38;5;241m.\u001b[39mwraps(func)\n\u001b[1;32m   1471\u001b[0m \u001b[38;5;28;01mdef\u001b[39;00m \u001b[38;5;21minner\u001b[39m(ax, \u001b[38;5;241m*\u001b[39margs, data\u001b[38;5;241m=\u001b[39m\u001b[38;5;28;01mNone\u001b[39;00m, \u001b[38;5;241m*\u001b[39m\u001b[38;5;241m*\u001b[39mkwargs):\n\u001b[1;32m   1472\u001b[0m     \u001b[38;5;28;01mif\u001b[39;00m data \u001b[38;5;129;01mis\u001b[39;00m \u001b[38;5;28;01mNone\u001b[39;00m:\n\u001b[0;32m-> 1473\u001b[0m         \u001b[38;5;28;01mreturn\u001b[39;00m \u001b[43mfunc\u001b[49m\u001b[43m(\u001b[49m\n\u001b[1;32m   1474\u001b[0m \u001b[43m            \u001b[49m\u001b[43max\u001b[49m\u001b[43m,\u001b[49m\n\u001b[1;32m   1475\u001b[0m \u001b[43m            \u001b[49m\u001b[38;5;241;43m*\u001b[39;49m\u001b[38;5;28;43mmap\u001b[39;49m\u001b[43m(\u001b[49m\u001b[43msanitize_sequence\u001b[49m\u001b[43m,\u001b[49m\u001b[43m \u001b[49m\u001b[43margs\u001b[49m\u001b[43m)\u001b[49m\u001b[43m,\u001b[49m\n\u001b[1;32m   1476\u001b[0m \u001b[43m            \u001b[49m\u001b[38;5;241;43m*\u001b[39;49m\u001b[38;5;241;43m*\u001b[39;49m\u001b[43m{\u001b[49m\u001b[43mk\u001b[49m\u001b[43m:\u001b[49m\u001b[43m \u001b[49m\u001b[43msanitize_sequence\u001b[49m\u001b[43m(\u001b[49m\u001b[43mv\u001b[49m\u001b[43m)\u001b[49m\u001b[43m \u001b[49m\u001b[38;5;28;43;01mfor\u001b[39;49;00m\u001b[43m \u001b[49m\u001b[43mk\u001b[49m\u001b[43m,\u001b[49m\u001b[43m \u001b[49m\u001b[43mv\u001b[49m\u001b[43m \u001b[49m\u001b[38;5;129;43;01min\u001b[39;49;00m\u001b[43m \u001b[49m\u001b[43mkwargs\u001b[49m\u001b[38;5;241;43m.\u001b[39;49m\u001b[43mitems\u001b[49m\u001b[43m(\u001b[49m\u001b[43m)\u001b[49m\u001b[43m}\u001b[49m\u001b[43m)\u001b[49m\n\u001b[1;32m   1478\u001b[0m     bound \u001b[38;5;241m=\u001b[39m new_sig\u001b[38;5;241m.\u001b[39mbind(ax, \u001b[38;5;241m*\u001b[39margs, \u001b[38;5;241m*\u001b[39m\u001b[38;5;241m*\u001b[39mkwargs)\n\u001b[1;32m   1479\u001b[0m     auto_label \u001b[38;5;241m=\u001b[39m (bound\u001b[38;5;241m.\u001b[39marguments\u001b[38;5;241m.\u001b[39mget(label_namer)\n\u001b[1;32m   1480\u001b[0m                   \u001b[38;5;129;01mor\u001b[39;00m bound\u001b[38;5;241m.\u001b[39mkwargs\u001b[38;5;241m.\u001b[39mget(label_namer))\n",
      "File \u001b[0;32m~/Projects/Python_Projects/Python_venvs/Image_processing_01/lib/python3.12/site-packages/matplotlib/axes/_axes.py:2563\u001b[0m, in \u001b[0;36mAxes.bar\u001b[0;34m(self, x, height, width, bottom, align, **kwargs)\u001b[0m\n\u001b[1;32m   2561\u001b[0m         left \u001b[38;5;241m=\u001b[39m x \u001b[38;5;241m-\u001b[39m width \u001b[38;5;241m/\u001b[39m \u001b[38;5;241m2\u001b[39m\n\u001b[1;32m   2562\u001b[0m     \u001b[38;5;28;01mexcept\u001b[39;00m \u001b[38;5;167;01mTypeError\u001b[39;00m \u001b[38;5;28;01mas\u001b[39;00m e:\n\u001b[0;32m-> 2563\u001b[0m         \u001b[38;5;28;01mraise\u001b[39;00m \u001b[38;5;167;01mTypeError\u001b[39;00m(\u001b[38;5;124mf\u001b[39m\u001b[38;5;124m'\u001b[39m\u001b[38;5;124mthe dtypes of parameters x (\u001b[39m\u001b[38;5;132;01m{\u001b[39;00mx\u001b[38;5;241m.\u001b[39mdtype\u001b[38;5;132;01m}\u001b[39;00m\u001b[38;5;124m) \u001b[39m\u001b[38;5;124m'\u001b[39m\n\u001b[1;32m   2564\u001b[0m                         \u001b[38;5;124mf\u001b[39m\u001b[38;5;124m'\u001b[39m\u001b[38;5;124mand width (\u001b[39m\u001b[38;5;132;01m{\u001b[39;00mwidth\u001b[38;5;241m.\u001b[39mdtype\u001b[38;5;132;01m}\u001b[39;00m\u001b[38;5;124m) \u001b[39m\u001b[38;5;124m'\u001b[39m\n\u001b[1;32m   2565\u001b[0m                         \u001b[38;5;124mf\u001b[39m\u001b[38;5;124m'\u001b[39m\u001b[38;5;124mare incompatible\u001b[39m\u001b[38;5;124m'\u001b[39m) \u001b[38;5;28;01mfrom\u001b[39;00m \u001b[38;5;21;01me\u001b[39;00m\n\u001b[1;32m   2566\u001b[0m     bottom \u001b[38;5;241m=\u001b[39m y\n\u001b[1;32m   2567\u001b[0m \u001b[38;5;28;01melse\u001b[39;00m:  \u001b[38;5;66;03m# horizontal\u001b[39;00m\n",
      "\u001b[0;31mTypeError\u001b[0m: the dtypes of parameters x (timedelta64[ns]) and width (float64) are incompatible"
     ]
    },
    {
     "data": {
      "image/png": "[encoded data removed]",
      "text/plain": [
       "<Figure size 1000x600 with 1 Axes>"
      ]
     },
     "metadata": {},
     "output_type": "display_data"
    }
   ],
   "source": [
    "\n",
    "# Plot the results\n",
    "plt.figure(figsize=(10, 6))\n",
    "plt.bar(df['Hour'], df['CrimeCount'], color='blue')\n",
    "plt.title('Crimes by Hour')\n",
    "plt.xlabel('Hour of Day')\n",
    "plt.ylabel('Crime Count')\n",
    "plt.show()\n"
   ]
  },
  {
   "cell_type": "code",
   "execution_count": 12,
   "metadata": {},
   "outputs": [
    {
     "data": {
      "image/png": "[encoded data removed]",
      "text/plain": [
       "<Figure size 1200x600 with 1 Axes>"
      ]
     },
     "metadata": {},
     "output_type": "display_data"
    }
   ],
   "source": [
    "# Convert timedelta to string (HH:MM format)\n",
    "df['Hour_Str'] = df['Hour'].apply(lambda x: str(x)[7:12])\n",
    "\n",
    "# Group by time if needed\n",
    "crime_by_time = df.groupby('Hour_Str')['CrimeCount'].sum().reset_index()\n"
   ]
  },
  {
   "cell_type": "code",
   "execution_count": 20,
   "metadata": {},
   "outputs": [
    {
     "data": {
      "image/png": "[encoded data removed]",
      "text/plain": [
       "<Figure size 1200x600 with 1 Axes>"
      ]
     },
     "metadata": {},
     "output_type": "display_data"
    }
   ],
   "source": [
    "# Plotting\n",
    "plt.figure(figsize=(12, 6))\n",
    "plt.bar(crime_by_time['Hour_Str'][10], crime_by_time['CrimeCount'][100], color='blue')\n",
    "plt.title('Crimes by Time of Day')\n",
    "plt.xlabel('Time (HH:MM)')\n",
    "plt.ylabel('Crime Count')\n",
    "plt.xticks(rotation=270)  # Rotate for better readability\n",
    "plt.show()\n"
   ]
  }
 ],
 "metadata": {
  "kernelspec": {
   "display_name": "Image_processing_01",
   "language": "python",
   "name": "python3"
  },
  "language_info": {
   "codemirror_mode": {
    "name": "ipython",
    "version": 3
   },
   "file_extension": ".py",
   "mimetype": "text/x-python",
   "name": "python",
   "nbconvert_exporter": "python",
   "pygments_lexer": "ipython3",
   "version": "3.12.3"
  }
 },
 "nbformat": 4,
 "nbformat_minor": 2
}
